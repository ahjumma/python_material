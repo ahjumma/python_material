{
 "cells": [
  {
   "cell_type": "markdown",
   "metadata": {},
   "source": [
    "# List Data Structure\n",
    " * List is a dynamically re-sizing array structure\n",
    " * Key characteristics\n",
    "    * the size of a list object can grow/reduce dynamically\n",
    "    * a list is mutable. items in a list may be updated\n",
    " * Key methods\n",
    "    * list.append()\n",
    "    * list.extend()"
   ]
  },
  {
   "cell_type": "code",
   "execution_count": 3,
   "metadata": {},
   "outputs": [
    {
     "name": "stdout",
     "output_type": "stream",
     "text": [
      "0\n",
      "1\n"
     ]
    }
   ],
   "source": [
    "# printing size of a list\n",
    "empty_list = []\n",
    "print(len(empty_list))  # len() returns the size of a data structure in integer\n",
    "\n",
    "non_empty_list = [\"a string item\"]\n",
    "print(len(non_empty_list))"
   ]
  },
  {
   "cell_type": "code",
   "execution_count": 4,
   "metadata": {},
   "outputs": [
    {
     "name": "stdout",
     "output_type": "stream",
     "text": [
      "[]\n",
      "['a string item']\n"
     ]
    }
   ],
   "source": [
    "# adding an item to a list\n",
    "test_list = []\n",
    "print(test_list)\n",
    "test_list.append(\"a string item\")  # adds an item into the list\n",
    "print(test_list)"
   ]
  },
  {
   "cell_type": "code",
   "execution_count": 6,
   "metadata": {},
   "outputs": [
    {
     "name": "stdout",
     "output_type": "stream",
     "text": [
      "['hello', 'world', 'foo', 'bar']\n",
      "['foo', 'bar']\n"
     ]
    }
   ],
   "source": [
    "# extending a list by merging\n",
    "first_list = [\"hello\", \"world\"]\n",
    "second_list = [\"foo\", \"bar\"]\n",
    "first_list.extend(second_list)  # first_list is extended with items from second_list\n",
    "print(first_list)  # first_list now has 4 string items\n",
    "print(second_list)  # note that second_list is not mutated"
   ]
  },
  {
   "cell_type": "markdown",
   "metadata": {},
   "source": [
    "# Things to watch out\n",
    " * a.append(\"hello\") does not return any values\n",
    " * a.append(\"hello\") is equivalent to list.append(a, \"hello\")\n",
    "    * `list.append(a, \"hello\")` == using `list` class's `append` method, apply it on `a`, with a value `\"hello\"`\n",
    "    * https://docs.python.org/3/tutorial/datastructures.html#more-on-lists"
   ]
  },
  {
   "cell_type": "code",
   "execution_count": 10,
   "metadata": {},
   "outputs": [
    {
     "name": "stdout",
     "output_type": "stream",
     "text": [
      "['hello']\n",
      "<class 'list'>\n",
      "None\n",
      "<class 'NoneType'>\n",
      "['hello']\n",
      "<class 'list'>\n",
      "None\n",
      "<class 'NoneType'>\n"
     ]
    }
   ],
   "source": [
    "# list methods often doesn't return any values\n",
    "a = []\n",
    "what_will_it_be = a.append(\"hello\")\n",
    "print(a)\n",
    "print(type(a))\n",
    "print(what_will_it_be)\n",
    "print(type(what_will_it_be))\n",
    "\n",
    "# implicit equivalent form as the above solution\n",
    "a = []\n",
    "what_will_it_be = list.append(a, \"hello\")\n",
    "print(a)\n",
    "print(type(a))\n",
    "print(what_will_it_be)\n",
    "print(type(what_will_it_be))"
   ]
  },
  {
   "cell_type": "code",
   "execution_count": null,
   "metadata": {},
   "outputs": [],
   "source": []
  }
 ],
 "metadata": {
  "kernelspec": {
   "display_name": "Python 3",
   "language": "python",
   "name": "python3"
  },
  "language_info": {
   "codemirror_mode": {
    "name": "ipython",
    "version": 3
   },
   "file_extension": ".py",
   "mimetype": "text/x-python",
   "name": "python",
   "nbconvert_exporter": "python",
   "pygments_lexer": "ipython3",
   "version": "3.8.2"
  }
 },
 "nbformat": 4,
 "nbformat_minor": 4
}
