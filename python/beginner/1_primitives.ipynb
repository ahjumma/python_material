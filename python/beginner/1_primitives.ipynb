{
 "cells": [
  {
   "cell_type": "markdown",
   "metadata": {},
   "source": [
    "# Python Primitives\n",
    " * Primitives are the most basic units of data representation in Python\n",
    " * Types of primitives\n",
    "    * Integer: -1, 0, 1\n",
    "    * Float: 0.0, 3.14\n",
    "    * String: \"hello\"\n",
    "    * Boolean: True, False\n",
    " * Operations on primitives\n",
    "    * numeric operations\n",
    "    * boolean operations\n",
    "    * binary operations\n",
    "    * string operations"
   ]
  },
  {
   "cell_type": "code",
   "execution_count": 5,
   "metadata": {},
   "outputs": [
    {
     "name": "stdout",
     "output_type": "stream",
     "text": [
      "<class 'int'>\n",
      "<class 'int'>\n",
      "3\n",
      "<class 'int'>\n",
      "1\n",
      "<class 'int'>\n"
     ]
    }
   ],
   "source": [
    "# Integer\n",
    "a = 0\n",
    "print(type(a))\n",
    "print(type(1))\n",
    "\n",
    "b = 1 + 2  # additive integer operation\n",
    "print(b)\n",
    "print(type(b))  # a new integer object is created from adding a and b\n",
    "\n",
    "c = 3 // 2  # integer division operation\n",
    "print(c)\n",
    "print(type(c))  # c is still an integer since // integer division operator was used"
   ]
  },
  {
   "cell_type": "code",
   "execution_count": 7,
   "metadata": {},
   "outputs": [
    {
     "name": "stdout",
     "output_type": "stream",
     "text": [
      "<class 'float'>\n",
      "<class 'float'>\n",
      "<class 'float'>\n"
     ]
    }
   ],
   "source": [
    "# Float\n",
    "a = 0.0\n",
    "print(type(a))\n",
    "\n",
    "b = 1 / 2  # a float object is created\n",
    "print(type(b))\n",
    "\n",
    "c = float(1)  # you can convert integer into a float\n",
    "print(type(c))"
   ]
  },
  {
   "cell_type": "code",
   "execution_count": 17,
   "metadata": {},
   "outputs": [
    {
     "name": "stdout",
     "output_type": "stream",
     "text": [
      "<class 'str'>\n",
      "<class 'str'>\n",
      "<class 'str'>\n",
      "helloworld\n",
      "<class 'str'>\n",
      "17\n",
      "left padded and right padded\n",
      "      left padded and right padded    \n",
      "['hello', 'world', 'foo', 'bar']\n",
      "<class 'list'>\n"
     ]
    }
   ],
   "source": [
    "# String\n",
    "a = \"hello\"\n",
    "print(type(a))\n",
    "\n",
    "b = str(1)\n",
    "print(type(b))  # an integer is converted into a string object\n",
    "\n",
    "c = str(1.0)\n",
    "print(type(c)) # a float can be converted into a string object as well\n",
    "\n",
    "first = \"hello\"\n",
    "second = \"world\"\n",
    "new = first + second  # when two strings are joined, a new string is created\n",
    "print(new)\n",
    "print(type(new))\n",
    "\n",
    "long_str = \"hello world from the other side\"\n",
    "target = \"the\"\n",
    "index = long_str.find(target)  # locates the index of occurrence of \"target\" object within \"long_str\"\n",
    "print(index)\n",
    "\n",
    "padded_str = \"      left padded and right padded    \"\n",
    "stripped = padded_str.strip()  # creates a new string without left/right whitespaces\n",
    "print(stripped)\n",
    "print(padded_str)  # note that original string is not altered\n",
    "\n",
    "csv_str = \"hello,world,foo,bar\"\n",
    "splitted = csv_str.split(\",\")  # split \"csv_str\" by using \",\" as a separator\n",
    "print(splitted)\n",
    "print(type(splitted))  # note that a list of string is created"
   ]
  },
  {
   "cell_type": "code",
   "execution_count": null,
   "metadata": {},
   "outputs": [],
   "source": []
  }
 ],
 "metadata": {
  "kernelspec": {
   "display_name": "Python 3",
   "language": "python",
   "name": "python3"
  },
  "language_info": {
   "codemirror_mode": {
    "name": "ipython",
    "version": 3
   },
   "file_extension": ".py",
   "mimetype": "text/x-python",
   "name": "python",
   "nbconvert_exporter": "python",
   "pygments_lexer": "ipython3",
   "version": "3.8.2"
  }
 },
 "nbformat": 4,
 "nbformat_minor": 4
}
