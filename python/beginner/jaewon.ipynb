{
 "cells": [
  {
   "cell_type": "markdown",
   "metadata": {},
   "source": [
    "# 1. Fix non-zero/one characters in a string\n",
    "\n",
    "## Key points to this problem\n",
    " * what is the type of parameter your function takes: `str`\n",
    " * what is the return type of your function: `str`\n",
    " * list manipulation\n",
    " \n",
    "## What has gone wrong\n",
    " 1. the return type is a list of strings, and not a single string object\n",
    " 2. list.append() operations do not return any values\n",
    "    * `list_string_to_1` is a list object\n",
    "    * `list_string_to_1.append` is a list class' method\n",
    "    * `list_string_to_1.append(\"1\")` is executing the list class' method with a parameter of \"1\" string object"
   ]
  },
  {
   "cell_type": "code",
   "execution_count": 4,
   "metadata": {},
   "outputs": [],
   "source": [
    "\"\"\"\n",
    "This one only uses basic string manipulation.\n",
    "1. String is a iterable object already. You don't need to convert it into an array to go through a for loop.\n",
    "2. fixed += char == fixed = fixed + char (simpler syntax but the same result)\n",
    "\"\"\"\n",
    "\n",
    "def fix_to_binary(src: str) -> str:\n",
    "    \"\"\"\n",
    "    fixing non 0/1 characters with 1\n",
    "    \"\"\"\n",
    "    fixed = \"\"\n",
    "    for char in src:\n",
    "        if char == \"0\":\n",
    "            fixed += char\n",
    "        elif char == \"1\":\n",
    "            fixed += char\n",
    "        else:\n",
    "            fixed += \"1\"\n",
    "    return fixed\n",
    "\n",
    "a = \"101010aa0\"\n",
    "b = fix_to_binary(a)\n",
    "print(b)"
   ]
  },
  {
   "cell_type": "code",
   "execution_count": 2,
   "metadata": {},
   "outputs": [],
   "source": [
    "\"\"\"\n",
    "This one only uses an array to collect intermediate results before returning a new string.\n",
    "1. temp_list.append(char): list.append() does not return a value. It directly modifies the caller object (temp_list in this case)\n",
    "2. fixed = \"\".join(temp_list)\n",
    "\"\"\"\n",
    "\n",
    "def fix_to_binary(src: str) -> str:\n",
    "    \"\"\"\n",
    "    fixing non 0/1 characters with 1\n",
    "    \"\"\"\n",
    "    temp_list = []\n",
    "    for char in src:\n",
    "        if char == \"0\":\n",
    "            temp_list.append(char)\n",
    "        elif char == \"1\":\n",
    "            temp_list.append(char)\n",
    "        else:\n",
    "            temp_list.append(\"1\")\n",
    "    fixed = \"\".join(temp_list)  # joins all string objects in temp_list, and returns a merged string\n",
    "    return fixed\n",
    "\n",
    "a = \"101010aa0\"\n",
    "b = fix_to_binary(a)\n",
    "print(b)"
   ]
  },
  {
   "cell_type": "code",
   "execution_count": 6,
   "metadata": {},
   "outputs": [
    {
     "name": "stdout",
     "output_type": "stream",
     "text": [
      "101010110\n"
     ]
    }
   ],
   "source": [
    "\"\"\"\n",
    "This one simplfies a conditional statement\n",
    "1. join \"0\" and \"1\" cases in a single if statement\n",
    "\"\"\"\n",
    "\n",
    "def fix_to_binary(src: str) -> str:\n",
    "    \"\"\"\n",
    "    fixing non 0/1 characters with 1\n",
    "    \"\"\"\n",
    "    temp_list = []\n",
    "    for char in src:\n",
    "        if char in [\"0\", \"1\"]:\n",
    "            temp_list.append(char)\n",
    "        else:\n",
    "            temp_list.append(\"1\")\n",
    "    fixed = \"\".join(temp_list)  # joins all string objects in temp_list, and returns a merged string\n",
    "    return fixed\n",
    "\n",
    "a = \"101010aa0\"\n",
    "b = fix_to_binary(a)\n",
    "print(b)"
   ]
  },
  {
   "cell_type": "markdown",
   "metadata": {},
   "source": [
    "# 2. XOR a string\n",
    "\n",
    "## Key points to this problem\n",
    " * xor: set 1 if a and b are different where a and b are integer values at the same digit position\n",
    " \n",
    "## What has gone wrong\n",
    " 1. for loop iteration is iterating through a character. not the index of a character\n",
    "    * `for i in range(len(my_string))`: i == index integer\n",
    "    * `for i in my_string`: i == a single character\n",
    " 2. temp_list should be declared before using the list\n",
    "    * `temp_list = []` should be stated before using `temp_list.append(\"1\")"
   ]
  },
  {
   "cell_type": "code",
   "execution_count": 1,
   "metadata": {},
   "outputs": [
    {
     "name": "stdout",
     "output_type": "stream",
     "text": [
      "110\n"
     ]
    }
   ],
   "source": [
    "def xor(first: str, second: str) -> str:\n",
    "    \"\"\"\n",
    "    returns a xor result of two strings\n",
    "    \n",
    "    assumes the length of two strings are the same\n",
    "    \"\"\"\n",
    "    length = len(first)\n",
    "    temp_list = []  # temp_list needs to be declared before using the 'append' method\n",
    "    for i in range(length):  # range(length) logically equivalent to [0, 1, 2, 3, ..., n-1] where n is the length of the string\n",
    "        if first[i] != second[i]:  # no need to convert each character to integer. if they are different, append 1\n",
    "            temp_list.append(\"1\")\n",
    "        else:\n",
    "            temp_list.append(first[i])  # first[i] must be equal to second[i]. append either one of them\n",
    "    \n",
    "    result = \"\".join(temp_list)\n",
    "    return result\n",
    "\n",
    "a = \"010\"\n",
    "b = \"100\"\n",
    "xor_result = xor(a, b)\n",
    "print(xor_result)"
   ]
  },
  {
   "cell_type": "code",
   "execution_count": 8,
   "metadata": {},
   "outputs": [
    {
     "name": "stdout",
     "output_type": "stream",
     "text": [
      "110\n"
     ]
    }
   ],
   "source": [
    "# no need to learn this, but to show it is possible to iterate through two lists at a same time\n",
    "\n",
    "def xor(first: str, second: str) -> str:\n",
    "    \"\"\"\n",
    "    returns a xor result of two strings\n",
    "    \n",
    "    assumes the length of two strings are the same\n",
    "    \"\"\"\n",
    "    temp_list = []\n",
    "    for a, b in zip(first, second):  # iterates through two strings at the same time\n",
    "        if a != b:  # a and b are string characters\n",
    "            temp_list.append(\"1\")\n",
    "        else:\n",
    "            temp_list.append(\"0\")\n",
    "    result = \"\".join(temp_list)\n",
    "    return result\n",
    "\n",
    "a = \"010\"\n",
    "b = \"100\"\n",
    "xor_result = xor(a, b)\n",
    "print(xor_result)"
   ]
  },
  {
   "cell_type": "code",
   "execution_count": 3,
   "metadata": {},
   "outputs": [
    {
     "name": "stdout",
     "output_type": "stream",
     "text": [
      "0\n",
      "1\n",
      "2\n",
      "3\n",
      "4\n",
      "0\n",
      "1\n",
      "2\n",
      "3\n",
      "4\n"
     ]
    }
   ],
   "source": [
    "# range(integer) returns an integer value in each loop iteration in an incrementing manner\n",
    "for i in range(5):  # 0, 1, 2, 3, 4: [0...5-1]\n",
    "    print(i)\n",
    "    \n",
    "# similar result\n",
    "for i in [0, 1, 2, 3, 4]:\n",
    "    print(i)"
   ]
  },
  {
   "cell_type": "code",
   "execution_count": 5,
   "metadata": {},
   "outputs": [
    {
     "name": "stdout",
     "output_type": "stream",
     "text": [
      "a\n",
      "b\n",
      "c\n",
      "d\n",
      "a\n",
      "b\n",
      "c\n",
      "d\n",
      "a\n",
      "b\n",
      "c\n",
      "d\n"
     ]
    }
   ],
   "source": [
    "# typical ways of iterating through a list\n",
    "\n",
    "# a\n",
    "test_list = [\"a\", \"b\", \"c\", \"d\"]\n",
    "for character in test_list:  # iterating each item in a list. where an item is a string in this case\n",
    "    print(character)\n",
    "\n",
    "# b\n",
    "length = len(test_list)\n",
    "for index in range(length):  # iterating index of a list\n",
    "    character = test_list[index]\n",
    "    print(character)\n",
    "\n",
    "# c\n",
    "for index in range(len(test_list)):  # same result as the above, but a bit more concise\n",
    "    character = test_list[index]\n",
    "    print(character)"
   ]
  },
  {
   "cell_type": "code",
   "execution_count": null,
   "metadata": {},
   "outputs": [],
   "source": []
  }
 ],
 "metadata": {
  "kernelspec": {
   "display_name": "Python 3",
   "language": "python",
   "name": "python3"
  },
  "language_info": {
   "codemirror_mode": {
    "name": "ipython",
    "version": 3
   },
   "file_extension": ".py",
   "mimetype": "text/x-python",
   "name": "python",
   "nbconvert_exporter": "python",
   "pygments_lexer": "ipython3",
   "version": "3.7.0"
  }
 },
 "nbformat": 4,
 "nbformat_minor": 4
}
