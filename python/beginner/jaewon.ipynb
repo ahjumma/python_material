{
 "cells": [
  {
   "cell_type": "markdown",
   "metadata": {},
   "source": [
    "# Key points to this problem\n",
    " * what is the type of parameter your function takes: `str`\n",
    " * what is the return type of your function: `str`\n",
    " * list manipulation\n",
    " \n",
    "# What has gone wrong\n",
    " 1. the return type is a list of strings, and not a single string object\n",
    " 2. list.append() operations do not return any values\n",
    "    * `list_string_to_1` is a list object\n",
    "    * `list_string_to_1.append` is a list class' method\n",
    "    * `list_string_to_1.append(\"1\")` is executing the list class' method with a parameter of \"1\" string object"
   ]
  },
  {
   "cell_type": "code",
   "execution_count": 4,
   "metadata": {},
   "outputs": [],
   "source": [
    "\"\"\"\n",
    "This one only uses basic string manipulation.\n",
    "1. String is a iterable object already. You don't need to convert it into an array to go through a for loop.\n",
    "2. fixed += char == fixed = fixed + char (simpler syntax but the same result)\n",
    "\"\"\"\n",
    "\n",
    "def fix_to_binary(src: str) -> str:\n",
    "    \"\"\"\n",
    "    fixing non 0/1 characters with 1\n",
    "    \"\"\"\n",
    "    fixed = \"\"\n",
    "    for char in src:\n",
    "        if char == \"0\":\n",
    "            fixed += char\n",
    "        elif char == \"1\":\n",
    "            fixed += char\n",
    "        else:\n",
    "            fixed += \"1\"\n",
    "    return fixed\n",
    "\n",
    "a = \"101010aa0\"\n",
    "b = fix_to_binary(a)\n",
    "print(b)"
   ]
  },
  {
   "cell_type": "code",
   "execution_count": 2,
   "metadata": {},
   "outputs": [],
   "source": [
    "\"\"\"\n",
    "This one only uses an array to collect intermediate results before returning a new string.\n",
    "1. temp_list.append(char): list.append() does not return a value. It directly modifies the caller object (temp_list in this case)\n",
    "2. fixed = \"\".join(temp_list)\n",
    "\"\"\"\n",
    "\n",
    "def fix_to_binary(src: str) -> str:\n",
    "    \"\"\"\n",
    "    fixing non 0/1 characters with 1\n",
    "    \"\"\"\n",
    "    temp_list = []\n",
    "    for char in src:\n",
    "        if char == \"0\":\n",
    "            temp_list.append(char)\n",
    "        elif char == \"1\":\n",
    "            temp_list.append(char)\n",
    "        else:\n",
    "            temp_list.append(\"1\")\n",
    "    fixed = \"\".join(temp_list)  # joins all string objects in temp_list, and returns a merged string\n",
    "    return fixed\n",
    "\n",
    "a = \"101010aa0\"\n",
    "b = fix_to_binary(a)\n",
    "print(b)"
   ]
  },
  {
   "cell_type": "code",
   "execution_count": 6,
   "metadata": {},
   "outputs": [
    {
     "name": "stdout",
     "output_type": "stream",
     "text": [
      "101010110\n"
     ]
    }
   ],
   "source": [
    "\"\"\"\n",
    "This one simplfies a conditional statement\n",
    "1. join \"0\" and \"1\" cases in a single if statement\n",
    "\"\"\"\n",
    "\n",
    "def fix_to_binary(src: str) -> str:\n",
    "    \"\"\"\n",
    "    fixing non 0/1 characters with 1\n",
    "    \"\"\"\n",
    "    temp_list = []\n",
    "    for char in src:\n",
    "        if char in [\"0\", \"1\"]:\n",
    "            temp_list.append(char)\n",
    "        else:\n",
    "            temp_list.append(\"1\")\n",
    "    fixed = \"\".join(temp_list)  # joins all string objects in temp_list, and returns a merged string\n",
    "    return fixed\n",
    "\n",
    "a = \"101010aa0\"\n",
    "b = fix_to_binary(a)\n",
    "print(b)"
   ]
  },
  {
   "cell_type": "code",
   "execution_count": null,
   "metadata": {},
   "outputs": [],
   "source": []
  }
 ],
 "metadata": {
  "kernelspec": {
   "display_name": "Python 3",
   "language": "python",
   "name": "python3"
  },
  "language_info": {
   "codemirror_mode": {
    "name": "ipython",
    "version": 3
   },
   "file_extension": ".py",
   "mimetype": "text/x-python",
   "name": "python",
   "nbconvert_exporter": "python",
   "pygments_lexer": "ipython3",
   "version": "3.8.2"
  }
 },
 "nbformat": 4,
 "nbformat_minor": 4
}
